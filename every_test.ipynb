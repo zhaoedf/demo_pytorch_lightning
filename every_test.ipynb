{
 "cells": [
  {
   "cell_type": "markdown",
   "source": [
    "## class incremental_scenario"
   ],
   "metadata": {}
  },
  {
   "cell_type": "code",
   "execution_count": 1,
   "source": [
    "from incremental_scenario import incremental_scenario"
   ],
   "outputs": [],
   "metadata": {}
  },
  {
   "cell_type": "code",
   "execution_count": 2,
   "source": [
    "import torch\n",
    "\n",
    "import numpy as np"
   ],
   "outputs": [],
   "metadata": {}
  },
  {
   "cell_type": "code",
   "execution_count": 3,
   "source": [
    "initial_increment = 2\n",
    "increment = 2\n",
    "inc_scenario = incremental_scenario(\n",
    "    dataset_name = 'CIFAR10',\n",
    "    train_additional_transforms = [],\n",
    "    test_additional_transforms = [],\n",
    "    initial_increment = initial_increment,\n",
    "    increment = increment3\n",
    ")"
   ],
   "outputs": [],
   "metadata": {
    "scrolled": true
   }
  },
  {
   "cell_type": "code",
   "execution_count": 4,
   "source": [
    "inc_scenario.prepare_data()"
   ],
   "outputs": [
    {
     "output_type": "stream",
     "name": "stdout",
     "text": [
      "Files already downloaded and verified\n",
      "Files already downloaded and verified\n"
     ]
    }
   ],
   "metadata": {}
  },
  {
   "cell_type": "code",
   "execution_count": 5,
   "source": [
    "train_scenario, test_scenario = inc_scenario.get_incremental_scenarios()"
   ],
   "outputs": [],
   "metadata": {}
  },
  {
   "cell_type": "code",
   "execution_count": 6,
   "source": [
    "inc_scenario.class_order"
   ],
   "outputs": [
    {
     "output_type": "execute_result",
     "data": {
      "text/plain": [
       "[9, 7, 5, 1, 2, 0, 4, 6, 8, 3]"
      ]
     },
     "metadata": {},
     "execution_count": 6
    }
   ],
   "metadata": {}
  },
  {
   "cell_type": "code",
   "execution_count": 7,
   "source": [
    "print(train_scenario.get_original_targets(np.array([1,5])))"
   ],
   "outputs": [
    {
     "output_type": "stream",
     "name": "stdout",
     "text": [
      "[7 0]\n"
     ]
    }
   ],
   "metadata": {
    "scrolled": true
   }
  },
  {
   "cell_type": "code",
   "execution_count": 8,
   "source": [
    "nb_seen_classes = initial_increment\n",
    "for task_id, taskset in enumerate(train_scenario):\n",
    "    print('*'*100)\n",
    "    print(type(taskset))\n",
    "    print(task_id)\n",
    "    print(len(taskset))\n",
    "    imgs, targets, t = taskset.get_samples([0])\n",
    "    print(imgs[0].shape)\n",
    "    print(taskset.get_classes())\n",
    "    print(taskset.trsf)\n",
    "    print(len(test_scenario[:task_id+1]))\n",
    "    nb_seen_classes += increment"
   ],
   "outputs": [
    {
     "output_type": "stream",
     "name": "stdout",
     "text": [
      "****************************************************************************************************\n",
      "<class 'continuum.tasks.task_set.TaskSet'>\n",
      "0\n",
      "10000\n",
      "torch.Size([3, 32, 32])\n",
      "[0 1]\n",
      "Compose(\n",
      "    RandomCrop(size=(32, 32), padding=4)\n",
      "    RandomHorizontalFlip(p=0.5)\n",
      "    ColorJitter(brightness=[0.7529411764705882, 1.2470588235294118], contrast=None, saturation=None, hue=None)\n",
      "    ToTensor()\n",
      "    Normalize(mean=(0.4914, 0.4822, 0.4465), std=(0.2023, 0.1994, 0.201))\n",
      ")\n",
      "2000\n",
      "****************************************************************************************************\n",
      "<class 'continuum.tasks.task_set.TaskSet'>\n",
      "1\n",
      "10000\n",
      "torch.Size([3, 32, 32])\n",
      "[2 3]\n",
      "Compose(\n",
      "    RandomCrop(size=(32, 32), padding=4)\n",
      "    RandomHorizontalFlip(p=0.5)\n",
      "    ColorJitter(brightness=[0.7529411764705882, 1.2470588235294118], contrast=None, saturation=None, hue=None)\n",
      "    ToTensor()\n",
      "    Normalize(mean=(0.4914, 0.4822, 0.4465), std=(0.2023, 0.1994, 0.201))\n",
      ")\n",
      "4000\n",
      "****************************************************************************************************\n",
      "<class 'continuum.tasks.task_set.TaskSet'>\n",
      "2\n",
      "10000\n",
      "torch.Size([3, 32, 32])\n",
      "[4 5]\n",
      "Compose(\n",
      "    RandomCrop(size=(32, 32), padding=4)\n",
      "    RandomHorizontalFlip(p=0.5)\n",
      "    ColorJitter(brightness=[0.7529411764705882, 1.2470588235294118], contrast=None, saturation=None, hue=None)\n",
      "    ToTensor()\n",
      "    Normalize(mean=(0.4914, 0.4822, 0.4465), std=(0.2023, 0.1994, 0.201))\n",
      ")\n",
      "6000\n",
      "****************************************************************************************************\n",
      "<class 'continuum.tasks.task_set.TaskSet'>\n",
      "3\n",
      "10000\n",
      "torch.Size([3, 32, 32])\n",
      "[6 7]\n",
      "Compose(\n",
      "    RandomCrop(size=(32, 32), padding=4)\n",
      "    RandomHorizontalFlip(p=0.5)\n",
      "    ColorJitter(brightness=[0.7529411764705882, 1.2470588235294118], contrast=None, saturation=None, hue=None)\n",
      "    ToTensor()\n",
      "    Normalize(mean=(0.4914, 0.4822, 0.4465), std=(0.2023, 0.1994, 0.201))\n",
      ")\n",
      "8000\n",
      "****************************************************************************************************\n",
      "<class 'continuum.tasks.task_set.TaskSet'>\n",
      "4\n",
      "10000\n",
      "torch.Size([3, 32, 32])\n",
      "[8 9]\n",
      "Compose(\n",
      "    RandomCrop(size=(32, 32), padding=4)\n",
      "    RandomHorizontalFlip(p=0.5)\n",
      "    ColorJitter(brightness=[0.7529411764705882, 1.2470588235294118], contrast=None, saturation=None, hue=None)\n",
      "    ToTensor()\n",
      "    Normalize(mean=(0.4914, 0.4822, 0.4465), std=(0.2023, 0.1994, 0.201))\n",
      ")\n",
      "10000\n"
     ]
    }
   ],
   "metadata": {}
  }
 ],
 "metadata": {
  "kernelspec": {
   "display_name": "Python [conda env:IL]",
   "language": "python",
   "name": "conda-env-IL-py"
  },
  "language_info": {
   "codemirror_mode": {
    "name": "ipython",
    "version": 3
   },
   "file_extension": ".py",
   "mimetype": "text/x-python",
   "name": "python",
   "nbconvert_exporter": "python",
   "pygments_lexer": "ipython3",
   "version": "3.7.10"
  },
  "toc": {
   "base_numbering": 1,
   "nav_menu": {},
   "number_sections": true,
   "sideBar": true,
   "skip_h1_title": false,
   "title_cell": "Table of Contents",
   "title_sidebar": "Contents",
   "toc_cell": false,
   "toc_position": {},
   "toc_section_display": true,
   "toc_window_display": false
  }
 },
 "nbformat": 4,
 "nbformat_minor": 4
}